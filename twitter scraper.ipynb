{
 "cells": [
  {
   "cell_type": "markdown",
   "metadata": {},
   "source": [
    "<div class=\"flex-shrink-0 col-12 col-md-9 mb-4 mb-md-0\">\n",
    "            <div id=\"wiki-body\" class=\"gollum-markdown-content\">\n",
    "            <div class=\"markdown-body\">\n",
    "              <h2>Twint Options</h2>\n",
    "<table role=\"table\">\n",
    "<thead>\n",
    "<tr>\n",
    "<th>Command</th>\n",
    "<th>Usage</th>\n",
    "</tr>\n",
    "</thead>\n",
    "<tbody>\n",
    "<tr>\n",
    "<td>\n",
    "<code>-u</code>, <code>--username</code>\n",
    "</td>\n",
    "<td>User's Tweets you want to scrape.</td>\n",
    "</tr>\n",
    "<tr>\n",
    "<td>\n",
    "<code>-s</code>, <code>--search</code>\n",
    "</td>\n",
    "<td>Search for Tweets containing this word or phrase.</td>\n",
    "</tr>\n",
    "<tr>\n",
    "<td>\n",
    "<code>-g</code>, <code>--geo</code>\n",
    "</td>\n",
    "<td>Search for geocoded Tweets.</td>\n",
    "</tr>\n",
    "<tr>\n",
    "<td><code>--near</code></td>\n",
    "<td>Near a specified city.</td>\n",
    "</tr>\n",
    "<tr>\n",
    "<td><code>--location</code></td>\n",
    "<td>Show user's location (Experimental).</td>\n",
    "</tr>\n",
    "<tr>\n",
    "<td>\n",
    "<code>-l</code>, <code>--lang</code>\n",
    "</td>\n",
    "<td>Search for Tweets in a specific language (See <a href=\"https://github.com/haccer/twint/wiki/Langauge-codes\">language codes</a>).</td>\n",
    "</tr>\n",
    "<tr>\n",
    "<td>\n",
    "<code>-o</code>, <code>--output</code>\n",
    "</td>\n",
    "<td>Save output to a file.</td>\n",
    "</tr>\n",
    "<tr>\n",
    "<td>\n",
    "<code>-es</code>, <code>--elasticsearch</code>\n",
    "</td>\n",
    "<td>Index to Elasticsearch.</td>\n",
    "</tr>\n",
    "<tr>\n",
    "<td><code>--year</code></td>\n",
    "<td>Filter Tweets before specified year.</td>\n",
    "</tr>\n",
    "<tr>\n",
    "<td><code>--since</code></td>\n",
    "<td>Filter Tweets sent since date (Example: 2017-12-27).</td>\n",
    "</tr>\n",
    "<tr>\n",
    "<td><code>--until</code></td>\n",
    "<td>Filter Tweets sent until date (Example: 2017-12-27).</td>\n",
    "</tr>\n",
    "<tr>\n",
    "<td><code>--email</code></td>\n",
    "<td>Filter Tweets that might have email addresses.</td>\n",
    "</tr>\n",
    "<tr>\n",
    "<td><code>--phone</code></td>\n",
    "<td>Filter Tweets that might have phone numbers.</td>\n",
    "</tr>\n",
    "<tr>\n",
    "<td><code>--verified</code></td>\n",
    "<td>Display Tweets only from verified users (Use with -s).</td>\n",
    "</tr>\n",
    "<tr>\n",
    "<td><code>--csv</code></td>\n",
    "<td>Write as .csv file.</td>\n",
    "</tr>\n",
    "<tr>\n",
    "<td><code>--json</code></td>\n",
    "<td>Write as .json file.</td>\n",
    "</tr>\n",
    "<tr>\n",
    "<td><code>--hashtags</code></td>\n",
    "<td>Output hashtags in seperate column.</td>\n",
    "</tr>\n",
    "<tr>\n",
    "<td><code>--userid</code></td>\n",
    "<td>Twitter user id.</td>\n",
    "</tr>\n",
    "<tr>\n",
    "<td><code>--limit</code></td>\n",
    "<td>Number of Tweets to pull (Increments of 20).</td>\n",
    "</tr>\n",
    "<tr>\n",
    "<td><code>--count</code></td>\n",
    "<td>Display number of Tweets scraped at the end of session.</td>\n",
    "</tr>\n",
    "<tr>\n",
    "<td><code>--stats</code></td>\n",
    "<td>Show number of replies, retweets, and likes.</td>\n",
    "</tr>\n",
    "<tr>\n",
    "<td>\n",
    "<code>-db</code>, <code>--database</code>\n",
    "</td>\n",
    "<td>Store Tweets in a sqlite3 database.</td>\n",
    "</tr>\n",
    "<tr>\n",
    "<td><code>--to</code></td>\n",
    "<td>Search Tweets to a user.</td>\n",
    "</tr>\n",
    "<tr>\n",
    "<td><code>--all</code></td>\n",
    "<td>Search all Tweets associated with a user.</td>\n",
    "</tr>\n",
    "<tr>\n",
    "<td><code>--followers</code></td>\n",
    "<td>Scrape a person's followers.</td>\n",
    "</tr>\n",
    "<tr>\n",
    "<td><code>--following</code></td>\n",
    "<td>Scrape a person's follows.</td>\n",
    "</tr>\n",
    "<tr>\n",
    "<td><code>--favorites</code></td>\n",
    "<td>Scrape Tweets a user has liked.</td>\n",
    "</tr>\n",
    "<tr>\n",
    "<td><code>--proxy-type</code></td>\n",
    "<td>Socks5, HTTP, etc.</td>\n",
    "</tr>\n",
    "<tr>\n",
    "<td><code>--proxy-host</code></td>\n",
    "<td>Proxy hostname or IP.</td>\n",
    "</tr>\n",
    "<tr>\n",
    "<td><code>--proxy-port</code></td>\n",
    "<td>The port of the proxy server.</td>\n",
    "</tr>\n",
    "<tr>\n",
    "<td><code>--essid</code></td>\n",
    "<td>Elasticsearch Session ID, use this to differentiate scraping sessions.</td>\n",
    "</tr>\n",
    "<tr>\n",
    "<td><code>--userlist</code></td>\n",
    "<td>Userlist from list or file.</td>\n",
    "</tr>\n",
    "<tr>\n",
    "<td><code>--retweets</code></td>\n",
    "<td>Include user's Retweets (Warning: limited).</td>\n",
    "</tr>\n",
    "<tr>\n",
    "<td><code>--format</code></td>\n",
    "<td>Custom output format (See wiki for details).</td>\n",
    "</tr>\n",
    "<tr>\n",
    "<td><code>--user-full</code></td>\n",
    "<td>Collect all user information (Use with followers or following only).</td>\n",
    "</tr>\n",
    "<tr>\n",
    "<td><code>--profile-full</code></td>\n",
    "<td>Slow, but effective method of collecting a user's Tweets and RT.</td>\n",
    "</tr>\n",
    "<tr>\n",
    "<td><code>--store-pandas</code></td>\n",
    "<td>Save Tweets in a DataFrame (Pandas) file.</td>\n",
    "</tr>\n",
    "<tr>\n",
    "<td><code>--pandas-type</code></td>\n",
    "<td>Specify HDF5 or Pickle (HDF5 as default).</td>\n",
    "</tr>\n",
    "<tr>\n",
    "<td>\n",
    "<code>-it</code>, <code>--index-tweets</code>\n",
    "</td>\n",
    "<td>Custom Elasticsearch Index name for Tweets.</td>\n",
    "</tr>\n",
    "<tr>\n",
    "<td>\n",
    "<code>-if</code>, <code>--index-follow</code>\n",
    "</td>\n",
    "<td>Custom Elasticsearch Index name for Follows.</td>\n",
    "</tr>\n",
    "<tr>\n",
    "<td>\n",
    "<code>-iu</code>, <code>--index-users</code>\n",
    "</td>\n",
    "<td>Custom Elasticsearch Index name for Users.</td>\n",
    "</tr>\n",
    "<tr>\n",
    "<td>\n",
    "<code>-dt</code>, <code>--doc-type</code>\n",
    "</td>\n",
    "<td>Custom Elasticsearch document type.</td>\n",
    "</tr>\n",
    "<tr>\n",
    "<td><code>--debug</code></td>\n",
    "<td>Store information in debug logs.</td>\n",
    "</tr>\n",
    "<tr>\n",
    "<td><code>--resume</code></td>\n",
    "<td>Resume from Tweet ID.</td>\n",
    "</tr>\n",
    "<tr>\n",
    "<td><code>--videos</code></td>\n",
    "<td>Display only Tweets with videos.</td>\n",
    "</tr>\n",
    "<tr>\n",
    "<td><code>--images</code></td>\n",
    "<td>Display only Tweets with images.</td>\n",
    "</tr>\n",
    "<tr>\n",
    "<td><code>--media</code></td>\n",
    "<td>Display Tweets with only images or videos.</td>\n",
    "</tr>\n",
    "<tr>\n",
    "<td><code>--replies</code></td>\n",
    "<td>Display replies to a subject.</td>\n",
    "</tr>\n",
    "<tr>\n",
    "<td>\n",
    "<code>-pc</code>, <code>--pandas-clean</code>\n",
    "</td>\n",
    "<td>Automatically clean Pandas dataframe at every scrape.</td>\n",
    "</tr>\n",
    "<tr>\n",
    "<td><code>--get-replies</code></td>\n",
    "<td>All replies to the tweet.</td>\n",
    "</tr>\n",
    "<tr>\n",
    "<td>\n",
    "<code>-pt</code>, <code>--popular-tweets</code>\n",
    "</td>\n",
    "<td>Scrape popular tweets instead of recent ones.</td>\n",
    "</tr>\n",
    "<tr>\n",
    "<td>\n",
    "<code>-sc</code>, <code>--skip-certs</code>\n",
    "</td>\n",
    "<td>Skip certs verification, useful for SSC.</td>\n",
    "</tr>\n",
    "<tr>\n",
    "<td>\n",
    "<code>-ho</code>, <code>--hide-output</code>\n",
    "</td>\n",
    "<td>Hide output, no tweets will be displayed.</td>\n",
    "</tr>\n",
    "<tr>\n",
    "<td>\n",
    "<code>-nr</code>, <code>--native-retweets</code>\n",
    "</td>\n",
    "<td>Filter the results for retweets only (a few tweets will be returned!).</td>\n",
    "</tr>\n",
    "<tr>\n",
    "<td><code>--min-likes</code></td>\n",
    "<td>Filter the tweets by minimum number of likes.</td>\n",
    "</tr>\n",
    "<tr>\n",
    "<td><code>--min-retweets</code></td>\n",
    "<td>Filter the tweets by minimum number of retweets.</td>\n",
    "</tr>\n",
    "<tr>\n",
    "<td><code>--min-replies</code></td>\n",
    "<td>Filter the tweets by minimum number of replies.</td>\n",
    "</tr>\n",
    "<tr>\n",
    "<td><code>--links</code></td>\n",
    "<td>Include or exclude tweets containing one o more links. If not specified you will get both tweets that might contain links or not.</td>\n",
    "</tr>\n",
    "<tr>\n",
    "<td><code>--source</code></td>\n",
    "<td>Filter the tweets for specific source client.</td>\n",
    "</tr>\n",
    "<tr>\n",
    "<td><code>--members-list</code></td>\n",
    "<td>Filter the tweets sent by users in a given list.</td>\n",
    "</tr>\n",
    "<tr>\n",
    "<td>\n",
    "<code>-fr</code>,<code>--filter-retweets</code>\n",
    "</td>\n",
    "<td>Exclude retweets from the results.</td>\n",
    "</tr>\n",
    "</tbody>\n",
    "</table>\n",
    "<p>If you would like to use Tor proxy, just type <code>--proxy-host tor</code> instead of <code>--proxy-host localhost --proxy-type socks5 --proxy-port 9050</code>.</p>\n",
    "<p><code>--userlist</code> arg will overwrite <code>--username</code> arg.</p>\n",
    "<h2>\n",
    "<a id=\"user-content-basic-examples-and-combos\" class=\"anchor\" href=\"#basic-examples-and-combos\" aria-hidden=\"true\"><svg class=\"octicon octicon-link\" viewBox=\"0 0 16 16\" version=\"1.1\" width=\"16\" height=\"16\" aria-hidden=\"true\"><path fill-rule=\"evenodd\" d=\"M7.775 3.275a.75.75 0 001.06 1.06l1.25-1.25a2 2 0 112.83 2.83l-2.5 2.5a2 2 0 01-2.83 0 .75.75 0 00-1.06 1.06 3.5 3.5 0 004.95 0l2.5-2.5a3.5 3.5 0 00-4.95-4.95l-1.25 1.25zm-4.69 9.64a2 2 0 010-2.83l2.5-2.5a2 2 0 012.83 0 .75.75 0 001.06-1.06 3.5 3.5 0 00-4.95 0l-2.5 2.5a3.5 3.5 0 004.95 4.95l1.25-1.25a.75.75 0 00-1.06-1.06l-1.25 1.25a2 2 0 01-2.83 0z\"></path></svg></a>Basic Examples and Combos.</h2>\n",
    "<p>A few simple examples to help you understand the basics:</p>\n",
    "<ul>\n",
    "<li>\n",
    "<code>twint -u username</code> - Scrape all the Tweets from <em>user</em>'s timeline.</li>\n",
    "<li>\n",
    "<code>twint -u username -s pineapple</code> - Scrape all Tweets from the <em>user</em>'s timeline containing <em>pineapple</em>.</li>\n",
    "<li>\n",
    "<code>twint -s pineapple</code> - Collect every Tweet containing <em>pineapple</em> from everyone's Tweets.</li>\n",
    "<li>\n",
    "<code>twint -u username --year 2014</code> - Collect Tweets that were tweeted <strong>before</strong> 2014.</li>\n",
    "<li>\n",
    "<code>twint -u username --since 2015-12-20</code> - Collect Tweets that were tweeted since 2015-12-20.</li>\n",
    "<li>\n",
    "<code>twint -u username -o file.txt</code> - Scrape Tweets and save to file.txt.</li>\n",
    "<li>\n",
    "<code>twint -u username -o file.csv --csv</code> - Scrape Tweets and save as a csv file.</li>\n",
    "<li>\n",
    "<code>twint -g=\"48.880048,2.385939,1km\" -o file.csv --csv</code> - Scrape Tweets from a radius of 1km around a place in Paris and export them to a csv file.</li>\n",
    "<li>\n",
    "<code>twint -u username -es localhost:9200</code> - Output Tweets to Elasticsearch</li>\n",
    "<li>\n",
    "<code>twint -u username -o file.json --json</code> - Scrape Tweets and save as a json file.</li>\n",
    "<li>\n",
    "<code>twint -u username --database tweets.db</code> - Save Tweets to a SQLite database.</li>\n",
    "<li>\n",
    "<code>twint -u username --followers</code> - Scrape a Twitter user's followers.</li>\n",
    "<li>\n",
    "<code>twint -u username --following</code> - Scrape who a Twitter user follows.</li>\n",
    "<li>\n",
    "<code>twint -u username --favorites</code> - Collect all the Tweets a user has favorited.</li>\n",
    "</ul>"
   ]
  },
  {
   "cell_type": "markdown",
   "metadata": {},
   "source": [
    "# Jupyter notebooks run an event loop when the kernel starts\n",
    "# the library below helps separate the loops from that of the kernel and that of twint\n",
    "!pip install nest_asyncio"
   ]
  },
  {
   "cell_type": "code",
   "execution_count": 1,
   "metadata": {},
   "outputs": [],
   "source": [
    "# remeding the situation\n",
    "import nest_asyncio\n",
    "nest_asyncio.apply()"
   ]
  },
  {
   "cell_type": "code",
   "execution_count": 2,
   "metadata": {},
   "outputs": [],
   "source": [
    "import twint"
   ]
  },
  {
   "cell_type": "markdown",
   "metadata": {},
   "source": [
    "## Defining variables"
   ]
  },
  {
   "cell_type": "markdown",
   "metadata": {},
   "source": [
    "username = \"simbatmotsi\"\n",
    "c = twint.Config() # initializing the config class"
   ]
  },
  {
   "cell_type": "markdown",
   "metadata": {},
   "source": [
    "# Return tweets sent by an user that contain links"
   ]
  },
  {
   "cell_type": "markdown",
   "metadata": {},
   "source": [
    "c.Username = username\n",
    "c.Links = \"include\"\n",
    "\n",
    "twint.run.Search(c)"
   ]
  },
  {
   "cell_type": "markdown",
   "metadata": {},
   "source": [
    "# Scrape a person's followers."
   ]
  },
  {
   "cell_type": "markdown",
   "metadata": {},
   "source": [
    "twint.run.Followers(c) # returning the list of followers"
   ]
  },
  {
   "cell_type": "markdown",
   "metadata": {},
   "source": [
    "# Return tweets sent by an user that used the web client"
   ]
  },
  {
   "cell_type": "markdown",
   "metadata": {},
   "source": [
    "c.Username = username\n",
    "c.Source = \"Twitter Web Client\"\n",
    "\n",
    "twint.run.Search(c)"
   ]
  },
  {
   "cell_type": "markdown",
   "metadata": {},
   "source": [
    "# Return tweets containing a specific keyword and that have at least 5 likes"
   ]
  },
  {
   "cell_type": "markdown",
   "metadata": {},
   "source": [
    "c = twint.Config()\n",
    "c.Username = \"simbatmotsi\"\n",
    "c.Search = \"Awesome\"\n",
    "c.Min_likes = 5\n",
    "\n",
    "twint.run.Search(c)"
   ]
  },
  {
   "cell_type": "markdown",
   "metadata": {},
   "source": [
    "# Filter Tweets before specified year."
   ]
  },
  {
   "cell_type": "markdown",
   "metadata": {},
   "source": [
    "c = twint.Config()\n",
    "\n",
    "username = \"simbatmotsi\"\n",
    "c.Username = username\n",
    "c.Year = 2019\n",
    "#c.Source = \"Twitter Web Client\"\n",
    "\n",
    "twint.run.Search(c)"
   ]
  },
  {
   "cell_type": "markdown",
   "metadata": {},
   "source": [
    "# Filter Tweets sent since date (Example: 2017-12-27)."
   ]
  },
  {
   "cell_type": "markdown",
   "metadata": {},
   "source": [
    "import datetime\n",
    "\n",
    "c = twint.Config()\n",
    "\n",
    "username = \"simbatmotsi\"\n",
    "c.Username = username\n",
    "# <input type=\"datetime-local\" id=\"birthdaytime\" name=\"birthdaytime\">\n",
    "date = \"2019-01-01 08:15:27\"\n",
    "\n",
    "c.Since = date\n",
    "#c.Source = \"Twitter Web Client\"\n",
    "\n",
    "twint.run.Search(c)"
   ]
  },
  {
   "cell_type": "markdown",
   "metadata": {},
   "source": [
    "# Filter Tweets sent until date (Example: 2017-12-27)."
   ]
  },
  {
   "cell_type": "markdown",
   "metadata": {},
   "source": [
    "import datetime\n",
    "\n",
    "c = twint.Config()\n",
    "\n",
    "username = \"simbatmotsi\"\n",
    "c.Username = username\n",
    "# <input type=\"datetime-local\" id=\"birthdaytime\" name=\"birthdaytime\">\n",
    "date = \"2019-01-01 08:15:27\"\n",
    "\n",
    "c.Until = date\n",
    "#c.Source = \"Twitter Web Client\"\n",
    "\n",
    "twint.run.Search(c)"
   ]
  },
  {
   "cell_type": "markdown",
   "metadata": {},
   "source": [
    " # Filter Tweets that might have email addresses."
   ]
  },
  {
   "cell_type": "markdown",
   "metadata": {},
   "source": [
    "c = twint.Config()\n",
    "\n",
    "username = \"simbatmotsi\"\n",
    "c.Username = username\n",
    "\n",
    "c.Email\n",
    "#c.Source = \"Twitter Web Client\"\n",
    "\n",
    "twint.run.Search(c)"
   ]
  },
  {
   "cell_type": "markdown",
   "metadata": {},
   "source": [
    "# Filter Tweets that might have phone numbers."
   ]
  },
  {
   "cell_type": "markdown",
   "metadata": {},
   "source": [
    "c = twint.Config()\n",
    "\n",
    "username = \"simbatmotsi\"\n",
    "c.Username = username\n",
    "\n",
    "c.Phone\n",
    "#c.Source = \"Twitter Web Client\"\n",
    "\n",
    "twint.run.Search(c)"
   ]
  },
  {
   "cell_type": "markdown",
   "metadata": {},
   "source": [
    "# Display Tweets only from verified users (Use with -s)."
   ]
  },
  {
   "cell_type": "markdown",
   "metadata": {},
   "source": [
    "c = twint.Config()\n",
    "\n",
    "username = \"simbatmotsi\"\n",
    "c.Username = username\n",
    "\n",
    "c.Verified\n",
    "#c.Source = \"Twitter Web Client\"\n",
    "\n",
    "twint.run.Search(c)"
   ]
  },
  {
   "cell_type": "code",
   "execution_count": 3,
   "metadata": {},
   "outputs": [
    {
     "data": {
      "text/plain": [
       "'\\n--csv\\tWrite as .csv file.\\n--json\\tWrite as .json file.\\n'"
      ]
     },
     "execution_count": 3,
     "metadata": {},
     "output_type": "execute_result"
    }
   ],
   "source": [
    "\"\"\"\n",
    "--csv\tWrite as .csv file.\n",
    "--json\tWrite as .json file.\n",
    "\"\"\""
   ]
  },
  {
   "cell_type": "markdown",
   "metadata": {},
   "source": [
    "# Number of Tweets to pull (Increments of 20)."
   ]
  },
  {
   "cell_type": "markdown",
   "metadata": {},
   "source": [
    "c = twint.Config()\n",
    "\n",
    "#username = \"simbatmotsi\"\n",
    "#c.Username = username\n",
    "#c.Source = \"Twitter Web Client\"\n",
    "c.Near = \"Harare\"\n",
    "c.Limit = 1\n",
    "#c.Source = \"Twitter Web Client\"\n",
    "\n",
    "twint.run.Search(c)"
   ]
  },
  {
   "cell_type": "markdown",
   "metadata": {},
   "source": [
    "# Search Tweets to a user."
   ]
  },
  {
   "cell_type": "markdown",
   "metadata": {},
   "source": [
    "c = twint.Config()\n",
    "\n",
    "username = \"simbatmotsi\"\n",
    "c.Username = username\n",
    "\n",
    "c.To\n",
    "twint.run.Search(c)"
   ]
  },
  {
   "cell_type": "markdown",
   "metadata": {},
   "source": [
    "# Search all Tweets associated with a user."
   ]
  },
  {
   "cell_type": "markdown",
   "metadata": {},
   "source": [
    "c = twint.Config()\n",
    "\n",
    "username = \"simbatmotsi\"\n",
    "c.Username = username\n",
    "\n",
    "c.All\n",
    "twint.run.Search(c)"
   ]
  },
  {
   "cell_type": "markdown",
   "metadata": {},
   "source": [
    "# Scrape a person's followers."
   ]
  },
  {
   "cell_type": "markdown",
   "metadata": {},
   "source": [
    "c = twint.Config()\n",
    "c.Count = True\n",
    "username = \"simbatmotsi\"\n",
    "c.Username = username\n",
    "\n",
    "#c.Followers\n",
    "twint.run.Followers(c)"
   ]
  },
  {
   "cell_type": "markdown",
   "metadata": {},
   "source": [
    "# Scrape a person's follows."
   ]
  },
  {
   "cell_type": "markdown",
   "metadata": {},
   "source": [
    "import datetime\n",
    "\n",
    "c = twint.Config()\n",
    "c.Count = True\n",
    "username = \"simbatmotsi\"\n",
    "c.Username = username\n",
    "\n",
    "twint.run.Following(c)"
   ]
  },
  {
   "cell_type": "markdown",
   "metadata": {},
   "source": [
    "# Scrape Tweets a user has liked."
   ]
  },
  {
   "cell_type": "markdown",
   "metadata": {},
   "source": [
    "c = twint.Config()\n",
    "\n",
    "username = \"simbatmotsi\"\n",
    "c.Username = username\n",
    "\n",
    "c.Favorites\n",
    "twint.run.Search(c)"
   ]
  },
  {
   "cell_type": "markdown",
   "metadata": {},
   "source": [
    "# Include user's Retweets (Warning: limited)."
   ]
  },
  {
   "cell_type": "markdown",
   "metadata": {},
   "source": [
    "c = twint.Config()\n",
    "\n",
    "username = \"simbatmotsi\"\n",
    "c.Username = username\n",
    "\n",
    "c.Retweets\n",
    "twint.run.Search(c)"
   ]
  },
  {
   "cell_type": "markdown",
   "metadata": {},
   "source": [
    "# Display only Tweets with videos."
   ]
  },
  {
   "cell_type": "markdown",
   "metadata": {},
   "source": [
    "c = twint.Config()\n",
    "\n",
    "\n",
    "username = \"simbatmotsi\"\n",
    "c.Username = username\n",
    "\n",
    "c.Videos\n",
    "\n",
    "twint.run.Search(c)"
   ]
  },
  {
   "cell_type": "markdown",
   "metadata": {},
   "source": [
    "# Display only Tweets with images."
   ]
  },
  {
   "cell_type": "markdown",
   "metadata": {},
   "source": [
    "c = twint.Config()\n",
    "\n",
    "\n",
    "username = \"simbatmotsi\"\n",
    "c.Username = username\n",
    "\n",
    "c.Images\n",
    "\n",
    "twint.run.Search(c)"
   ]
  },
  {
   "cell_type": "markdown",
   "metadata": {},
   "source": [
    "# Display Tweets with only images or videos. "
   ]
  },
  {
   "cell_type": "code",
   "execution_count": 4,
   "metadata": {},
   "outputs": [
    {
     "name": "stderr",
     "output_type": "stream",
     "text": [
      "CRITICAL:root:twint.get:User:'NoneType' object is not subscriptable\n"
     ]
    }
   ],
   "source": [
    "c = twint.Config()\n",
    "\n",
    "username = \"simbatmotsi\"\n",
    "c.Username = username\n",
    "\n",
    "c.Media\n",
    "\n",
    "twint.run.Lookup(c)"
   ]
  },
  {
   "cell_type": "code",
   "execution_count": null,
   "metadata": {},
   "outputs": [],
   "source": []
  },
  {
   "cell_type": "markdown",
   "metadata": {},
   "source": [
    "# Display replies to a subject."
   ]
  },
  {
   "cell_type": "markdown",
   "metadata": {},
   "source": [
    "c = twint.Config()\n",
    "\n",
    "username = \"simbatmotsi\"\n",
    "c.Username = username\n",
    "\n",
    "c.Replies\n",
    "\n",
    "twint.run.Lookup(c)"
   ]
  },
  {
   "cell_type": "markdown",
   "metadata": {},
   "source": [
    "# All replies to the tweet."
   ]
  },
  {
   "cell_type": "markdown",
   "metadata": {},
   "source": [
    "c = twint.Config()\n",
    "\n",
    "username = \"simbatmotsi\"\n",
    "c.Username = username\n",
    "\n",
    "c.Get_replies = True\n",
    "\n",
    "twint.run.Lookup(c)"
   ]
  },
  {
   "cell_type": "code",
   "execution_count": null,
   "metadata": {},
   "outputs": [],
   "source": [
    "# Scrape popular tweets instead of recent ones."
   ]
  },
  {
   "cell_type": "code",
   "execution_count": 14,
   "metadata": {},
   "outputs": [
    {
     "name": "stderr",
     "output_type": "stream",
     "text": [
      "CRITICAL:root:twint.get:User:'NoneType' object is not subscriptable\n"
     ]
    },
    {
     "name": "stdout",
     "output_type": "stream",
     "text": [
      "1281203226008793088 2020-07-09 14:27:07 South Africa Standard Time <simbaTmotsi> The f-string  miracle only arrived later on with python 3.6 So l would say backwards compatibility and not spending time reading the docs\n",
      "1277307007230455809 2020-06-28 20:24:56 South Africa Standard Time <simbaTmotsi> Sharing is caring 👌🏽 https://twitter.com/PyTorch/status/1277305148197359617 …\n",
      "1276773040777560064 2020-06-27 09:03:08 South Africa Standard Time <simbaTmotsi> We are live 😁\n",
      "1274650316710043648 2020-06-21 12:28:12 South Africa Standard Time <simbaTmotsi> 😂 @shamu_shingai https://twitter.com/ravinwashere/status/1274590429082681345 …\n",
      "1269192962573053953 2020-06-06 11:02:37 South Africa Standard Time <simbaTmotsi> This is priceless 👌🏿 https://twitter.com/mrdbourke/status/1269087741137960961 …\n",
      "1266264595775107074 2020-05-29 09:06:20 South Africa Standard Time <simbaTmotsi> @DonC263 l died https://twitter.com/hatiperi_wacho/status/1266088378799448065 …\n",
      "1253376609979072514 2020-04-23 19:34:05 South Africa Standard Time <simbaTmotsi> 😂 @wishfulbrooklyn\n",
      "1250893194658709504 2020-04-16 23:05:52 South Africa Standard Time <simbaTmotsi> Now that's a sweet deal\n",
      "1240615229375033351 2020-03-19 14:24:54 South Africa Standard Time <simbaTmotsi> Thank you @365datascience pic.twitter.com/ysAptFpCfQ\n",
      "1220600477978636288 2020-01-24 08:53:26 South Africa Standard Time <simbaTmotsi> I would suggest \"It's My Life' by Bon Jovi.\n",
      "1213887499401076736 2020-01-05 20:18:27 South Africa Standard Time <simbaTmotsi> Wouldn't applying AI to biotechnology yield faster results?\n",
      "1213535358014676994 2020-01-04 20:59:10 South Africa Standard Time <simbaTmotsi> 2020 will be the year many startups will be offering services to Port over code to Python3\n",
      "1210209241547649025 2019-12-26 16:42:22 South Africa Standard Time <simbaTmotsi> If ever l get my hands on one again l will ship it directly to you, promise🤞🏼\n",
      "1210160636405137408 2019-12-26 13:29:14 South Africa Standard Time <simbaTmotsi> Unfortunately no 😭\n",
      "1210025877892980746 2019-12-26 04:33:45 South Africa Standard Time <simbaTmotsi> The experiment didn't kick of because l was expecting more but only had one.\n",
      "1209201587371024391 2019-12-23 21:58:18 South Africa Standard Time <simbaTmotsi> Hello world, please assist to help a friend have her surgery. https://www.gofundme.com/f/help-my-sister-yemurai-fight-lupus?utm_source=customer&utm_medium=copy_link-tip&utm_campaign=p_cp+share-sheet …\n",
      "1207379344450043905 2019-12-18 21:17:22 South Africa Standard Time <simbaTmotsi> Seems like the government of Finland is taking AI seriously, hope others will follow suit. https://twitter.com/HarareAi/status/1207377702233268231 …\n",
      "1205590338682970112 2019-12-13 22:48:30 South Africa Standard Time <simbaTmotsi> This will be interesting, wonder what headlines related to bio-hacking will be trending.\n",
      "1205589674892378112 2019-12-13 22:45:51 South Africa Standard Time <simbaTmotsi> Can't believe for the first time l actually have volunteers to give their data for free, we need to get more of these this side\n",
      "1205512456707149825 2019-12-13 17:39:01 South Africa Standard Time <simbaTmotsi> My sister brings me this PillCam and she was like you are the Comp Vision guy what can you do with it? Immediately thought of @berilsirmacek pic.twitter.com/hp51rqvBns\n",
      "1205235505450889216 2019-12-12 23:18:31 South Africa Standard Time <simbaTmotsi> For those who would like to get in touch with @alliance4ai  here are some useful links. pic.twitter.com/VMGt5KBP9J\n",
      "1195774971106250753 2019-11-16 20:45:44 South Africa Standard Time <simbaTmotsi> Wow congratulations\n",
      "1195764979376496641 2019-11-16 20:06:01 South Africa Standard Time <simbaTmotsi> A shift from #tech to celebrating Sensei Knowledge Chikondowa @Dr_Logos , this young man has been lifting the Zimbabwean flag high.   https://www.facebook.com/talkversations/videos/2530811480533735/ … pic.twitter.com/Xc0ln5PsVP\n",
      "1192876592818769920 2019-11-08 20:48:36 South Africa Standard Time <simbaTmotsi> That's true, that helps maintain the viability of the industry.\n",
      "1192198320854355968 2019-11-06 23:53:24 South Africa Standard Time <simbaTmotsi> Thank you for that, the team tried to meaningful work around the continent.\n",
      "1192035945094287360 2019-11-06 13:08:10 South Africa Standard Time <simbaTmotsi> Hello world, for those who have time to spare and are willing to help teach a child to code, this is the event for you.  Sign up link:  http://africacodeweek2k19.splashthat.com  pic.twitter.com/a35IBkoLle\n",
      "1185632775514271750 2019-10-19 21:04:16 South Africa Standard Time <simbaTmotsi> 😂 there is no shame in acknowledging greatness\n",
      "1184588770366119936 2019-10-16 23:55:46 South Africa Standard Time <simbaTmotsi> This can significantly lower movie production costs\n",
      "1183029284975337473 2019-10-12 16:38:55 South Africa Standard Time <simbaTmotsi> Coz he took time to know we exist and mention it 😅. All in French\n",
      "1181981806222069760 2019-10-09 19:16:37 South Africa Standard Time <simbaTmotsi> This is the ultimate guide to go from zero to hero in computer vision thank you and a job well done 👏🏿👏🏿👏🏿\n",
      "1179448265315631104 2019-10-02 19:29:14 South Africa Standard Time <simbaTmotsi> It's on again. @lassie034 @HarareAi @SchoolOfAIOffic pic.twitter.com/nQuKbYS518\n",
      "1179331059386929153 2019-10-02 11:43:30 South Africa Standard Time <simbaTmotsi> pip install tensorflow The command above is the non GPU version install command.\n",
      "1179330427124887552 2019-10-02 11:40:59 South Africa Standard Time <simbaTmotsi> pip install tensorflow That's the non GPU version. Recently installed the GPU version on my workstationrunning ubuntu\n",
      "1179091121026342914 2019-10-01 19:50:04 South Africa Standard Time <simbaTmotsi> #TF2.0 pic.twitter.com/B0J4BaBwpm\n",
      "1172377767544946690 2019-09-13 07:13:36 South Africa Standard Time <simbaTmotsi> Awesome stuff @tahtshuma looking forward to working will you. https://twitter.com/HarareAi/status/1172377319517741056 …\n",
      "1172193500768722944 2019-09-12 19:01:23 South Africa Standard Time <simbaTmotsi> So keras is still our savior ✍️\n",
      "1168198904288034821 2019-09-01 18:28:17 South Africa Standard Time <simbaTmotsi> Haha... So l am not the only one who suffers from imposter syndrome, nice to meet you fellow patient.\n",
      "1167506464119959552 2019-08-30 20:36:46 South Africa Standard Time <simbaTmotsi> Another library to add to the arsenal 👏🏼\n",
      "1167087041127112704 2019-08-29 16:50:08 South Africa Standard Time <simbaTmotsi> Mainly geopandas and mplleaflet, will tag you when the resources are uploaded to GitHub\n",
      "1167015742824419329 2019-08-29 12:06:49 South Africa Standard Time <simbaTmotsi> We all learn new things everyday 😅\n",
      "1165637603758170112 2019-08-25 16:50:35 South Africa Standard Time <simbaTmotsi> Well done Marly 🇿🇼\n",
      "1161696209343586304 2019-08-14 19:48:54 South Africa Standard Time <simbaTmotsi> Life keeps getting better https://twitter.com/suzatweet/status/1161474539278258178 …\n",
      "1151090210236710914 2019-07-16 13:24:26 South Africa Standard Time <simbaTmotsi> To think that around all this chaos we still have those that work towards making the next persons life a little bit easier\n",
      "1141104926430584834 2019-06-19 00:06:29 South Africa Standard Time <simbaTmotsi> Congratulations @marlene_zw\n",
      "1139657933581639680 2019-06-15 00:16:39 South Africa Standard Time <simbaTmotsi> Good to know that they keep optimizing tf.keras\n",
      "1138422429729132544 2019-06-11 14:27:12 South Africa Standard Time <simbaTmotsi> Hi Nigel. @yattishr is your Dean and he hosted his first meetup today.\n",
      "1138237569068670976 2019-06-11 02:12:38 South Africa Standard Time <simbaTmotsi> Hello @Mbongen13986503 your local Dean is Yattish Ramhorry. Will forward you his Twitter handle as soon as he forwards it.\n",
      "1123635626719498241 2019-05-01 19:09:44 South Africa Standard Time <simbaTmotsi> Please subscribe to our fellow School of AI Dean @berilsirmacek YouTube channel to know about all the cool things in AI. Link: https://www.youtube.com/drsirmacek/videos … #womenintech\n",
      "1123558269795086336 2019-05-01 14:02:20 South Africa Standard Time <simbaTmotsi> I just signed the #GlobalDealForNature calling on world leaders to protect half of our lands and seas. Please join me! Sign the petition at  http://globaldealfornature.org/  pic.twitter.com/oLdepKQeep\n",
      "1121389621668122624 2019-04-25 14:24:54 South Africa Standard Time <simbaTmotsi>  https://welovetheearth.org/act-now/ \n",
      "1120458698881630209 2019-04-23 00:45:45 South Africa Standard Time <simbaTmotsi> Python And web assembly, this is an awesome read.👌🏾  https://almarklein.org/python_and_webassembly.html …\n",
      "1102075553669136385 2019-03-03 07:17:42 South Africa Standard Time <simbaTmotsi> Welcome @lbleal1\n",
      "1101851454581735426 2019-03-02 16:27:12 South Africa Standard Time <simbaTmotsi> There is a Data analysis course offered by IBM on their cognitive AI platform, which is a great start.  http://bit.ly/dataPath  Then this  http://bit.ly/DataPathGuide  complete guide if you wanna take it up to the next level. Tried shortening the links for convenience.\n",
      "1101844427969044485 2019-03-02 15:59:17 South Africa Standard Time <simbaTmotsi> Python is the way😎\n",
      "1097944147003084800 2019-02-19 21:40:58 South Africa Standard Time <simbaTmotsi>  https://www.hackerearth.com/challenges/hiring/esri-data-science-challenge-2019/ …\n",
      "1096755568952397830 2019-02-16 14:57:59 South Africa Standard Time <simbaTmotsi> Wow we are truly the age that will transform humanity, the world need check out singularitynet l know @sirajraval likes DApps and @berilsirmacek wants to help the human race. @SchoolOfAIOffic & @motor_ai  what do you think of this concept? link:  http://beta.singularitynet.io/ \n",
      "1095775953157083143 2019-02-13 22:05:20 South Africa Standard Time <simbaTmotsi> Thank you very much @berilsirmacek it is always a delight working with trail blazers of our time such as you. https://twitter.com/berilsirmacek/status/1095774118958514177 …\n",
      "1095462975924813824 2019-02-13 01:21:40 South Africa Standard Time <simbaTmotsi> This is a great read. Capsule Networks: The New Deep Learning Network by Aryan Misra  https://medium.com/p/capsule-networks-the-new-deep-learning-network-bd917e6818e8 …\n",
      "1092821170041356289 2019-02-05 18:24:05 South Africa Standard Time <simbaTmotsi>  https://www.credential.net/12506518   Thank you @sirajraval and @SchoolOfAIOffic @HarareAi\n",
      "1087818984580362240 2019-01-22 23:07:11 South Africa Standard Time <simbaTmotsi> I would recommend splitting the problem into two; diagnosis and detection. Then the diagnosis data along with historic data will aid in the cholera prediction\n"
     ]
    },
    {
     "name": "stdout",
     "output_type": "stream",
     "text": [
      "1082699088142000129 2019-01-08 20:02:32 South Africa Standard Time <simbaTmotsi> Generally GPUs accelerate computation resulting in smaller training speeds. TPUs are more optimized for Tensorflow\n",
      "1082696431939584001 2019-01-08 19:51:59 South Africa Standard Time <simbaTmotsi> The iris dataset is good were you training with the GPU or TPU feature on, that might also affect performance\n",
      "1082692972951556096 2019-01-08 19:38:14 South Africa Standard Time <simbaTmotsi> The images are of imagenet and was using the Resnet50 architecture\n",
      "1082692479030382592 2019-01-08 19:36:17 South Africa Standard Time <simbaTmotsi> No l was benchmarking our workstation against that of @LambdaAPI\n",
      "1082690829192441856 2019-01-08 19:29:43 South Africa Standard Time <simbaTmotsi> Ubuntu 18.04 32GB RAM Cuda: 10.0 Nvidia driver: 415.25 GTX 1080ti x3  tf_cnn_benchmarks batch_size=64 Model=resnet50 @LambaAPI 757.95 images per second @HarareAi @sirajraval @wishfulbrooklyn pic.twitter.com/GTFNS29oU7\n",
      "1081638106514841600 2019-01-05 21:46:35 South Africa Standard Time <simbaTmotsi> Deep Learning is a superpower. With it you can make a computer see, synthesize novel art, translate languages, render a medical diagnosis, or build pieces of a car that can drive itself. If that isn’t a superpower, I don’t know what is. — @AndrewYNg\n",
      "1081636335159574528 2019-01-05 21:39:32 South Africa Standard Time <simbaTmotsi> Get ready for an interesting journey\n",
      "1076199070488842251 2018-12-21 21:33:47 South Africa Standard Time <simbaTmotsi> Awesome, making the right moves towards providing AI for all  @HarareAi @zimbopy @marlene_zw @zimbopy @marlene_zw @tchagwiza @yollandag @shamu_shingai @sirajraval @berilsirmacek @SchoolOfAIOffic @motor_ai @ai https://twitter.com/HarareAi/status/1076197748469387264 …\n",
      "1069151852338524160 2018-12-02 10:50:40 South Africa Standard Time <simbaTmotsi> AI is being open sourced daily https://twitter.com/HarareAi/status/1069150863019687936 …\n",
      "1068573427777314818 2018-11-30 20:32:12 South Africa Standard Time <simbaTmotsi> So true, l always give ladies the example of @berilsirmacek that’s one lady who has gone above and beyond with tech. https://twitter.com/DigitalBaeZWE/status/1068503642842562567 …\n",
      "1067529937459007490 2018-11-27 23:25:45 South Africa Standard Time <simbaTmotsi> Yeay to open source https://twitter.com/darrinpjohnson/status/1067504581519667200 …\n",
      "1066218772254662656 2018-11-24 08:35:39 South Africa Standard Time <simbaTmotsi> AI has no age limit https://twitter.com/DigitalBaeZWE/status/1066217859188183040 …\n",
      "1060433954006798336 2018-11-08 09:28:51 South Africa Standard Time <simbaTmotsi> So true we need to take action to protect Africa’s digital future.\n",
      "1060198531036835846 2018-11-07 17:53:21 South Africa Standard Time <simbaTmotsi> Often we use free material and take little or no time to acknowledge the great work.\n",
      "1055785175827841024 2018-10-26 13:36:16 South Africa Standard Time <simbaTmotsi> Great talk with various @UN representatives in #Harare definitely looking forward to partnering in future. #HarareSchoolOfAi @SchoolOfAIOffic @tchagwiza @sirajraval pic.twitter.com/vKQ5t3g2sK\n",
      "1055723105526734848 2018-10-26 09:29:37 South Africa Standard Time <simbaTmotsi> UN is Harare, perfect opportunity to see how we can have @SchoolOfAIOffic can help out. @sirajraval @lassie034 @shamu_shingai @tchagwiza @yollandag #HarareSchoolOfAi pic.twitter.com/MUo1oSZ3xt\n",
      "1055361483763269632 2018-10-25 09:32:40 South Africa Standard Time <simbaTmotsi> Would have loved to be part of that lecture 😊\n",
      "1053338575411052545 2018-10-19 19:34:21 South Africa Standard Time <simbaTmotsi> @sirajraval #HarareSchoolOfAi @pycon_zim  thank you for inviting us. https://twitter.com/DigitalBaeZWE/status/1053294806867288064 …\n",
      "1052488673726480385 2018-10-17 11:17:08 South Africa Standard Time <simbaTmotsi> Congratulations @tchagwiza  you are now officially a research fellow for the @SchoolOfAIOffic .   @sirajraval Thank you for for offering a member of #HarareSchoolOfAi such a splendid opportunity. #SchoolOfAi pic.twitter.com/e9Fkwhh9BD\n",
      "1052292157741129728 2018-10-16 22:16:15 South Africa Standard Time <simbaTmotsi> Apologies for the late response, l haven’t yet mainly coz the thought had never crossed my mind before. But definitely looking forward to trying it out.\n",
      "1051923313470128128 2018-10-15 21:50:36 South Africa Standard Time <simbaTmotsi> AMAZING... https://twitter.com/sirajraval/status/1051843975160549376 …\n",
      "1049600633379192832 2018-10-09 12:01:06 South Africa Standard Time <simbaTmotsi> Well done, taking the first step is always the hardest. So proud to have you representing #HarareSchoolOfAi #SchoolOfAi\n",
      "1047093781219151874 2018-10-02 13:59:46 South Africa Standard Time <simbaTmotsi> Well done young wizard @sirajraval https://twitter.com/lassie034/status/1047001931376447488 …\n",
      "1043163188018196486 2018-09-21 17:40:59 South Africa Standard Time <simbaTmotsi> Our young AI wizards tinkering with their arduino board... light is blinking good start guys; these kids have a lot of potential. #SchoolOfAI #HarareSchoolOfAI pic.twitter.com/bEiyT2nbVs\n",
      "1040230024174088192 2018-09-13 15:25:38 South Africa Standard Time <simbaTmotsi>  https://www.un.org/sustainabledevelopment/sustainable-development-goals/ … Let’s all play our part in making the world a better place for all #HarareSchoolOfAI #SchoolOfAI\n",
      "1038525886172225536 2018-09-08 22:34:00 South Africa Standard Time <simbaTmotsi> Chatting with a fellow Dean is amazing but getting a visit ...  #HarareSchoolOfAI would be honored to have you @sirajraval thank you @berilsirmacek #schoolofai pic.twitter.com/2okDnxJKxi\n",
      "1038094581995384832 2018-09-07 18:00:09 South Africa Standard Time <simbaTmotsi> Thank you for the chat it’s always interesting meeting incredible people  https://youtu.be/5K0WPTFbdgM  @berilsirmacek @sirajraval #SchoolOfAI #HarareSchoolOfAI\n",
      "1037812097915281409 2018-09-06 23:17:40 South Africa Standard Time <simbaTmotsi> Don’t worry we never leave anyone behind\n",
      "1037368083709616128 2018-09-05 17:53:19 South Africa Standard Time <simbaTmotsi> Start making your own Siri, lets go step-by-step  https://harareschoolofai.github.io/Word_based_NLP/  #HarareSchoolOfAI #SchoolOfAI\n",
      "1036357763671236608 2018-09-02 22:58:40 South Africa Standard Time <simbaTmotsi> In your opinion is it worth specializing in computer vision only rather than other AI fields? #100DaysofMLCode\n",
      "1035046143787520000 2018-08-30 08:06:45 South Africa Standard Time <simbaTmotsi> @wishfulbrooklyn\n",
      "1035045870721544192 2018-08-30 08:05:40 South Africa Standard Time <simbaTmotsi> @wishfulbrooklyn honawo\n",
      "1032292141777739778 2018-08-22 17:43:20 South Africa Standard Time <simbaTmotsi>  https://www.youtube.com/watch?v=_7TvMA_w8xw … AI wizards 🧙🏾‍♂️ lets help each other make the world a greater place #SchoolOfAI #HarareSchoolOfAI @sirajraval pic.twitter.com/U8NbkNgbp4\n",
      "1031968860952584193 2018-08-21 20:18:44 South Africa Standard Time <simbaTmotsi> I am always moved with the way you empower the girl child to disrupt the tech landscape 👍🏾\n",
      "1031185029244833797 2018-08-19 16:24:04 South Africa Standard Time <simbaTmotsi> You are always welcome\n",
      "1031073109045141504 2018-08-19 08:59:20 South Africa Standard Time <simbaTmotsi> Yes with Doc Panashe he will be there\n",
      "1031062993021358080 2018-08-19 08:19:08 South Africa Standard Time <simbaTmotsi> We are a learning community that teaches AI for free, we have regular meetings on Wednesday and Friday at the ZCHPC from 1530hrs\n",
      "1030489132966006784 2018-08-17 18:18:49 South Africa Standard Time <simbaTmotsi>  https://github.com/HarareSchoolOfAI/California-House-Data … GitHub link to our lecture today, \"Playing with California housing data (1990)\". That will be your source for more code as well @lassie034 @sirajraval #SchoolOfAI #HarareSchoolOfAI shout out to our sponsor  http://DeepAnalytics.ai \n",
      "1030485122003476480 2018-08-17 18:02:53 South Africa Standard Time <simbaTmotsi> We had a WordPress representative @tchagwiza visit us today, and these guys don’t wanna leave though we finished a while ago 😂 @Rabchit @sirajraval #SchoolOfAI #HarareSchoolOfAI pic.twitter.com/IVpdlfJIAE\n",
      "1030484817043959808 2018-08-17 18:01:40 South Africa Standard Time <simbaTmotsi>  pic.twitter.com/R9H0EKNbwc\n"
     ]
    },
    {
     "name": "stdout",
     "output_type": "stream",
     "text": [
      "1030094643210461186 2018-08-16 16:11:15 South Africa Standard Time <simbaTmotsi>  pic.twitter.com/PXx5RFnXkI\n",
      "1030091609835286529 2018-08-16 15:59:12 South Africa Standard Time <simbaTmotsi> 😂 that screen 📺 is to be upgraded to support support medical imaging.\n",
      "1029781843623768067 2018-08-15 19:28:18 South Africa Standard Time <simbaTmotsi> Thank you 😊 for the opportunity\n",
      "1029766130536202241 2018-08-15 18:25:52 South Africa Standard Time <simbaTmotsi>  https://drive.google.com/open?id=1bcntnoS4eNQ6KTUplP9ApXf4elZg-LZx … link to our first #HarareSchoolOfAI  lecture thanks to our sponsor  http://DeepAnalytics.ai  #SchoolOfAI @sirajraval\n",
      "1029760371505197056 2018-08-15 18:02:59 South Africa Standard Time <simbaTmotsi> First day as the Dean of #HarareSchoolOfAI we did an introduction to Keras and thank you to our official sponsor  http://DeepAnalytic.ai  @sirajraval #schoolofai @lassie034 pic.twitter.com/Bo9sATUxAP\n",
      "1029520874154680321 2018-08-15 02:11:18 South Africa Standard Time <simbaTmotsi> Wow thank you for the support #HarareSchoolOfAI already over 200 members since it started just about 48 hours ago, we are even negotiating with a potential sponsor Thank you 🙏 #SchoolOfAI @marlene_zw @sirajraval @shamu_shingai\n",
      "1029317676571742208 2018-08-14 12:43:52 South Africa Standard Time <simbaTmotsi> Harare school of AI  https://m.facebook.com/groups/228980571291404 … @sirajraval #SchoolOfAI #HarareSchoolOfAI\n",
      "1029031771801829376 2018-08-13 17:47:47 South Africa Standard Time <simbaTmotsi> Honored to be selected to be a Dean of AI @sirajraval  thank you, #HarareSchoolOfAI #SchoolOfAI\n",
      "1026176757332934659 2018-08-05 20:42:59 South Africa Standard Time <simbaTmotsi> Just because you can make a CNN doesn’t mean you always apply it, at times open cv has got your back🧙🏾‍♂️ pic.twitter.com/OMFKzauPGU\n",
      "1026161814864887809 2018-08-05 19:43:36 South Africa Standard Time <simbaTmotsi> #schoolofai Applied to represent Harare, Zimbabwe is represented to be part of the community\n",
      "961206083820941313 2018-02-07 13:52:43 South Africa Standard Time <simbaTmotsi> Mr Musk, now that you exported another car to Mars are you paying the Martians import duty...lol\n",
      "956900555561029633 2018-01-26 16:44:05 South Africa Standard Time <simbaTmotsi> Natural language processing\n",
      "946324438940823552 2017-12-28 12:18:22 South Africa Standard Time <simbaTmotsi> All in captain\n",
      "945674116312518657 2017-12-26 17:14:13 South Africa Standard Time <simbaTmotsi> In my opinion it is as a result of the material(data) we are exposed as we grow, the same way many systems are flawed, so are our minds\n",
      "929370318166208513 2017-11-11 17:28:45 South Africa Standard Time <simbaTmotsi> I was double charged for a transaction, now trying to call ecocash but can't get through\n",
      "916882345596203008 2017-10-08 06:26:00 South Africa Standard Time <simbaTmotsi> Hello, Darwendale has been in the dark for about a fortnight now. We were tolf the electric fault wil be rectified promptly but nothing.....\n",
      "710453866777747457 2016-03-17 15:12:56 South Africa Standard Time <simbaTmotsi> @HealthTips25 welcome< fitness is the way to go!\n",
      "695130715785142272 2016-02-04 08:24:12 South Africa Standard Time <simbaTmotsi> @sparkay_17 Lol.... That is undebateable but for number 2 spot which would you pick?\n",
      "694904871074586624 2016-02-03 17:26:46 South Africa Standard Time <simbaTmotsi> @sparkay_17 @econet_support The bigger you are the harder it is to admit defeat, any excuse given may ruin their reputation\n",
      "694841680969797632 2016-02-03 13:15:40 South Africa Standard Time <simbaTmotsi> @sparkay_17 Agreed... But then we know they aren't going to fill us in\n",
      "694840847045623808 2016-02-03 13:12:22 South Africa Standard Time <simbaTmotsi> @sparkay_17 *like\n",
      "694840657236639744 2016-02-03 13:11:36 South Africa Standard Time <simbaTmotsi> @sparkay_17 lol... it's not lie they can tweet the error code\n",
      "694839800285810688 2016-02-03 13:08:12 South Africa Standard Time <simbaTmotsi> @sparkay_17 https://twitter.com/econetzimbabwe/status/694788077886242816 …\n",
      "694839800277372928 2016-02-03 13:08:12 South Africa Standard Time <simbaTmotsi> @sparkay_17 tech prob, services will be up soon\n",
      "694832259069800448 2016-02-03 12:38:14 South Africa Standard Time <simbaTmotsi> @sparkay_17 lol... Atleast they gave an explanation\n",
      "503491270917259264 2014-08-24 12:37:28 South Africa Standard Time <simbaTmotsi> Go slow, Get BIG!!! #mostie\n"
     ]
    }
   ],
   "source": [
    "c = twint.Config()\n",
    "\n",
    "username = \"simbatmotsi\"\n",
    "c.Username = username\n",
    "\n",
    "c.popular_tweets = True\n",
    "\n",
    "twint.run.Search(c)"
   ]
  },
  {
   "cell_type": "code",
   "execution_count": null,
   "metadata": {},
   "outputs": [],
   "source": []
  },
  {
   "cell_type": "markdown",
   "metadata": {},
   "source": [
    "c = twint.Config()\n",
    "\n",
    "username = \"simbatmotsi\"\n",
    "c.Username = username\n",
    "\n",
    "c.Native_retweets = True\n",
    "\n",
    "twint.run.Search(c)"
   ]
  },
  {
   "cell_type": "markdown",
   "metadata": {},
   "source": [
    "# Exclude retweets from the results."
   ]
  },
  {
   "cell_type": "markdown",
   "metadata": {},
   "source": [
    "c = twint.Config()\n",
    "\n",
    "username = \"simbatmotsi\"\n",
    "c.Username = username\n",
    "\n",
    "c.filter_retweets = True\n",
    "\n",
    "twint.run.Search(c)"
   ]
  },
  {
   "cell_type": "code",
   "execution_count": null,
   "metadata": {},
   "outputs": [],
   "source": []
  },
  {
   "cell_type": "markdown",
   "metadata": {},
   "source": [
    "<p>Basically we can get users (and their information) and tweets. But there are various ways to get tweet and user objects.</p>\n",
    "\n",
    "<h1>Tweets</h1>\n",
    "\n",
    "<p>We can get tweets in three ways:</p>\n",
    "\n",
    "<ul>\n",
    "<li>searching for them, <code>twint.run.Search</code>\n",
    "</li>\n",
    "<li>scraping the user's timeline, <code>twint.run.Profile</code>\n",
    "</li>\n",
    "<li>scraping the favorite tweets of an user, <code>twint.run.Favorites</code>\n",
    "</li>\n",
    "</ul>"
   ]
  },
  {
   "cell_type": "markdown",
   "metadata": {},
   "source": [
    "<h1>Users</h1>\n",
    "\n",
    "<p>We can get only the usernames about the followers/following of a specific user:</p>\n",
    "\n",
    "<ul>\n",
    "<li>followers: <code>twint.run.Followers</code>\n",
    "</li>\n",
    "<li>following: <code>twint.run.Following</code>\n",
    "</li>\n",
    "</ul>\n",
    "\n",
    "<p>We can also get the information about the followers/following of a specific user, or even just the user itself:</p>\n",
    "\n",
    "<ul>\n",
    "<li>followers/following, just add <code>config.User_full = True</code>\n",
    "</li>\n",
    "<li>single user: <code>twint.run.Lookup</code>\n",
    "</li>\n",
    "</ul>\n",
    "\n"
   ]
  },
  {
   "cell_type": "code",
   "execution_count": null,
   "metadata": {},
   "outputs": [],
   "source": []
  },
  {
   "cell_type": "code",
   "execution_count": null,
   "metadata": {},
   "outputs": [],
   "source": []
  },
  {
   "cell_type": "code",
   "execution_count": null,
   "metadata": {},
   "outputs": [],
   "source": []
  }
 ],
 "metadata": {
  "kernelspec": {
   "display_name": "Python 3",
   "language": "python",
   "name": "python3"
  },
  "language_info": {
   "codemirror_mode": {
    "name": "ipython",
    "version": 3
   },
   "file_extension": ".py",
   "mimetype": "text/x-python",
   "name": "python",
   "nbconvert_exporter": "python",
   "pygments_lexer": "ipython3",
   "version": "3.7.6"
  }
 },
 "nbformat": 4,
 "nbformat_minor": 4
}
